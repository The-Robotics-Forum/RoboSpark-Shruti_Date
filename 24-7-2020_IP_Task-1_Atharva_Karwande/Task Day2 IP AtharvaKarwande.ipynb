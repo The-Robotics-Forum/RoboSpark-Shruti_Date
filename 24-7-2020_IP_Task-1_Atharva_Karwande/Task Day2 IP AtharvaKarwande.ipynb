{
 "cells": [
  {
   "cell_type": "code",
   "execution_count": 1,
   "metadata": {},
   "outputs": [],
   "source": [
    "import cv2\n",
    "import numpy as np"
   ]
  },
  {
   "cell_type": "code",
   "execution_count": 2,
   "metadata": {},
   "outputs": [],
   "source": [
    "img = cv2.imread('yellow_flower.jpg')\n",
    "img = cv2.resize(img, (300 , 400))\n",
    "kernel = np.array(([0, 0, 0] , [0, 2, 0] , [0 , 0 , 0]) , np.uint8)\n",
    "blurredF = cv2.filter2D(img , -1, kernel)\n",
    "Avg_blurF = cv2.blur(img , (5, 5), 0)\n",
    "gaus_blurF = cv2.GaussianBlur(img , (5, 5), 0 ,5 )\n",
    "medianF = cv2.medianBlur(img ,5)\n",
    "bilF = cv2.bilateralFilter(img, 5, 75, 75) \n",
    "\n",
    "cv2.imshow(\"Blur\" , blurredF)\n",
    "cv2.imshow(\"Average Blur\" , Avg_blurF)\n",
    "cv2.imshow(\" Gaussian Blur\" , gaus_blurF)\n",
    "cv2.imshow(\"Median Blur\" , medianF)\n",
    "cv2.imshow(\"Blurred Bilateral\" , bilF)\n",
    "\n",
    "cv2.waitKey(0)\n",
    "cv2.destroyAllWindows()"
   ]
  },
  {
   "cell_type": "code",
   "execution_count": 3,
   "metadata": {},
   "outputs": [
    {
     "data": {
      "text/plain": [
       "True"
      ]
     },
     "execution_count": 3,
     "metadata": {},
     "output_type": "execute_result"
    }
   ],
   "source": [
    "cv2.imwrite(\"Blur.jpg\" , blurredF)\n",
    "cv2.imwrite(\"Average_Blur.jpg\" , Avg_blurF)\n",
    "cv2.imwrite(\" Gaussian_Blur.jpg\" , gaus_blurF)\n",
    "cv2.imwrite(\"Median_Blur.jpg\" , medianF)\n",
    "cv2.imwrite(\"Blurred_Bilateral.jpg\" , bilF)"
   ]
  },
  {
   "cell_type": "code",
   "execution_count": 4,
   "metadata": {},
   "outputs": [],
   "source": [
    "bgrl = np.array([29, 31, 64], np.uint8)\n",
    "bgrh = np.array([40, 255, 255], np.uint8)\n",
    "\n",
    "mask = cv2.inRange(img, bgrl, bgrh)\n",
    "cv2.imshow(\"Masked\" , mask)\n",
    "\n",
    "cv2.waitKey(0)\n",
    "cv2.destroyAllWindows()"
   ]
  },
  {
   "cell_type": "code",
   "execution_count": 5,
   "metadata": {},
   "outputs": [
    {
     "data": {
      "text/plain": [
       "True"
      ]
     },
     "execution_count": 5,
     "metadata": {},
     "output_type": "execute_result"
    }
   ],
   "source": [
    "cv2.imwrite(\"Mask.jpg\" , mask)"
   ]
  },
  {
   "cell_type": "code",
   "execution_count": 6,
   "metadata": {},
   "outputs": [],
   "source": [
    "cv2.rectangle(img , (90 , 320) , (200 , 340) , (141, 142 ,114) ,-1)\n",
    "cv2.line(img , (90 ,320) , (200, 320)  ,(0, 0, 0) ,2)\n",
    "cv2.line(img , (90, 340), (200 , 340) , (0 ,0 ,0 ),2)\n",
    "pts = np.array([[100,340],[105,400],[185,400],[190,340]], np.int32)\n",
    "pts = pts.reshape((-1,1,2))\n",
    "cv2.polylines(img,[pts],True,(0,0,0) )\n",
    "cv2.fillPoly(img, pts =[pts], color=(255, 99 ,71))\n",
    "font = cv2.FONT_HERSHEY_TRIPLEX\n",
    "cv2.putText(img , \"F L O W E R\", ( 20 , 30) ,font ,1,(250,250, 250), 2 ,cv2.LINE_AA)\n",
    "kernel = np.ones((3,3), np.uint8)\n",
    "img = cv2.erode(img ,kernel)\n",
    "\n",
    "cv2.imshow(\"Image\" , img)\n",
    "cv2.waitKey(0)\n",
    "cv2.destroyAllWindows()"
   ]
  }
 ],
 "metadata": {
  "kernelspec": {
   "display_name": "Python 3",
   "language": "python",
   "name": "python3"
  },
  "language_info": {
   "codemirror_mode": {
    "name": "ipython",
    "version": 3
   },
   "file_extension": ".py",
   "mimetype": "text/x-python",
   "name": "python",
   "nbconvert_exporter": "python",
   "pygments_lexer": "ipython3",
   "version": "3.7.0"
  }
 },
 "nbformat": 4,
 "nbformat_minor": 4
}
