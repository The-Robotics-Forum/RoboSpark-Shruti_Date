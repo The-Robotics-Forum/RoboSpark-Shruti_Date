{
 "cells": [
  {
   "cell_type": "code",
   "execution_count": 1,
   "metadata": {},
   "outputs": [],
   "source": [
    "import cv2\n",
    "import numpy as np"
   ]
  },
  {
   "cell_type": "code",
   "execution_count": 2,
   "metadata": {},
   "outputs": [],
   "source": [
    "img = cv2.imread(r'text.jpg' , cv2.IMREAD_COLOR)\n",
    "\n",
    "cv2.imshow(\"original\" ,img )\n",
    "cv2.waitKey(0)\n",
    "cv2.destroyAllWindows()"
   ]
  },
  {
   "cell_type": "code",
   "execution_count": 3,
   "metadata": {},
   "outputs": [],
   "source": [
    "img_gray = cv2.cvtColor(img , cv2.COLOR_RGB2GRAY)\n",
    "img_hsv = cv2.cvtColor(img , cv2.COLOR_RGB2HSV)\n",
    "\n",
    "cv2.imshow(\"Gray\" , img_gray)\n",
    "cv2.imshow(\"HSV\" , img_hsv)\n",
    "cv2.waitKey(0)\n",
    "cv2.destroyAllWindows()"
   ]
  },
  {
   "cell_type": "code",
   "execution_count": 4,
   "metadata": {},
   "outputs": [
    {
     "name": "stdout",
     "output_type": "stream",
     "text": [
      "After Reshaping  (300, 300, 3)\n",
      "Before Reshaping  (300, 230, 3)\n"
     ]
    }
   ],
   "source": [
    "img_reshape = cv2.resize(img , (300,300))\n",
    "print(\"After Reshaping \" , img_reshape.shape)\n",
    "print(\"Before Reshaping \" , img.shape)\n",
    "cv2.imshow(\"Reshaped\" ,img_reshape)\n",
    "cv2.waitKey(0)\n",
    "cv2.destroyAllWindows()"
   ]
  },
  {
   "cell_type": "code",
   "execution_count": 5,
   "metadata": {},
   "outputs": [],
   "source": [
    "ret,thresh1 = cv2.threshold(img_gray, 150, 255, cv2.THRESH_BINARY)\n",
    "ret,thresh2 = cv2.threshold(img_gray, 150, 255, cv2.THRESH_BINARY_INV)\n",
    "ret,thresh3 = cv2.threshold(img_gray, 150, 255, cv2.THRESH_OTSU)\n",
    "\n",
    "cv2.imshow('threshold', thresh1)\n",
    "cv2.imshow('threshold- binary', thresh2)\n",
    "cv2.imshow('threshold- otsu', thresh3)\n",
    "\n",
    "cv2.waitKey(0)\n",
    "cv2.destroyAllWindows()"
   ]
  },
  {
   "cell_type": "code",
   "execution_count": 6,
   "metadata": {},
   "outputs": [],
   "source": [
    "thresh_gaus=cv2.adaptiveThreshold(img_gray,255,cv2.ADAPTIVE_THRESH_GAUSSIAN_C,cv2.THRESH_BINARY,115,1)\n",
    "\n",
    "thresh_mean=cv2.adaptiveThreshold(img_gray,255,cv2.ADAPTIVE_THRESH_MEAN_C,cv2.THRESH_BINARY,115,1)\n",
    "\n",
    "cv2.imshow('Adaptive Gaussian', thresh_gaus)\n",
    "cv2.imshow('Adaptive Mean', thresh_mean)\n",
    "\n",
    "cv2.waitKey(0)\n",
    "cv2.destroyAllWindows()"
   ]
  },
  {
   "cell_type": "code",
   "execution_count": 7,
   "metadata": {},
   "outputs": [
    {
     "data": {
      "text/plain": [
       "True"
      ]
     },
     "execution_count": 7,
     "metadata": {},
     "output_type": "execute_result"
    }
   ],
   "source": [
    "cv2.imwrite('threshold.jpg' , thresh1)\n",
    "cv2.imwrite('threshold_binary.jpg' , thresh2)\n",
    "cv2.imwrite('threshold_otsu.jpg' , thresh3)\n",
    "cv2.imwrite('Adaptive_gaussian.jpg' , thresh_gaus)\n",
    "cv2.imwrite('Adaptive_mean.jpg' , thresh_mean)"
   ]
  },
  {
   "cell_type": "code",
   "execution_count": 8,
   "metadata": {},
   "outputs": [
    {
     "data": {
      "text/plain": [
       "True"
      ]
     },
     "execution_count": 8,
     "metadata": {},
     "output_type": "execute_result"
    }
   ],
   "source": [
    "cv2.imwrite('GrayScale.jpg' , img_gray)\n",
    "cv2.imwrite('HSV.jpg' , img_hsv)"
   ]
  },
  {
   "cell_type": "code",
   "execution_count": null,
   "metadata": {},
   "outputs": [],
   "source": []
  }
 ],
 "metadata": {
  "kernelspec": {
   "display_name": "Python 3",
   "language": "python",
   "name": "python3"
  },
  "language_info": {
   "codemirror_mode": {
    "name": "ipython",
    "version": 3
   },
   "file_extension": ".py",
   "mimetype": "text/x-python",
   "name": "python",
   "nbconvert_exporter": "python",
   "pygments_lexer": "ipython3",
   "version": "3.7.0"
  }
 },
 "nbformat": 4,
 "nbformat_minor": 4
}
